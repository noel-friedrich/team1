{
 "cells": [
  {
   "cell_type": "code",
   "execution_count": 1,
   "metadata": {},
   "outputs": [],
   "source": [
    "# load all test_articles in\n",
    "import os\n",
    "\n",
    "test_article_dir = \"../test_articles\"\n",
    "\n",
    "articles_map: dict[str, str] = {}\n",
    "\n",
    "for article_path in os.listdir(test_article_dir):\n",
    "    full_article_path = os.path.join(test_article_dir, article_path)\n",
    "    with open(full_article_path, \"r\", encoding=\"utf-8\") as file:\n",
    "        articles_map[article_path[:-3]] = file.read()"
   ]
  },
  {
   "cell_type": "code",
   "execution_count": 19,
   "metadata": {},
   "outputs": [
    {
     "name": "stdout",
     "output_type": "stream",
     "text": [
      "Finished.\n"
     ]
    }
   ],
   "source": [
    "import numpy as np\n",
    "from sentence_transformers import SentenceTransformer\n",
    "from functools import cache\n",
    "\n",
    "model = SentenceTransformer(\"all-MiniLM-L6-v2\")\n",
    "\n",
    "def cosine_similarity(vec1, vec2):\n",
    "    \"\"\"\n",
    "    Calculate the cosine similarity between two vectors.\n",
    "\n",
    "    Parameters:\n",
    "    vec1 (numpy.ndarray): First vector.\n",
    "    vec2 (numpy.ndarray): Second vector.\n",
    "\n",
    "    Returns:\n",
    "    float: Cosine similarity between vec1 and vec2.\n",
    "    \"\"\"\n",
    "    dot_product = np.dot(vec1, vec2)\n",
    "    norm_vec1 = np.linalg.norm(vec1)\n",
    "    norm_vec2 = np.linalg.norm(vec2)\n",
    "    return dot_product / (norm_vec1 * norm_vec2)\n",
    "\n",
    "@cache\n",
    "def vectorize(sentence):\n",
    "    embeddings = model.encode(sentence)\n",
    "    return np.array(embeddings)\n",
    "\n",
    "\n",
    "title_vectors: dict[str, np.array] = {}\n",
    "for i, title in enumerate(articles_map.keys()):\n",
    "    title_vectors[title] = vectorize(title)\n",
    "    print(f\"{i / len(articles_map) * 100:.2f}%\", end=\"\\r\")\n",
    "print(\"Finished.\")"
   ]
  },
  {
   "cell_type": "code",
   "execution_count": 21,
   "metadata": {},
   "outputs": [
    {
     "name": "stdout",
     "output_type": "stream",
     "text": [
      "Finished.\n"
     ]
    }
   ],
   "source": [
    "def tokenize(sentence: str) -> list[str]:\n",
    "    return sentence.replace(\".\", \"\").replace(\"!\", \"\").replace(\"?\", \"\").replace(\",\", \"\").split(\" \")\n",
    "\n",
    "article_backlinks: dict[str, list[str]] = {}\n",
    "all_titles = list(articles_map.keys())\n",
    "title_tokenizations = {t: tokenize(t) for t in all_titles}\n",
    "single_word_titles = [t for t in all_titles if len(title_tokenizations[t]) == 1]\n",
    "\n",
    "similarity_thresh = 0.8\n",
    "\n",
    "def parse_article(title: str, content: str):\n",
    "    words = tokenize(content)\n",
    "    backlinks: list[tuple[str, str]] = []\n",
    "\n",
    "    # find 1 word matches\n",
    "    for word in words:\n",
    "        word_vec = vectorize(word)\n",
    "        for title in single_word_titles:\n",
    "            title_vec = title_vectors[title]\n",
    "            if cosine_similarity(word_vec, title_vec) >= similarity_thresh:\n",
    "                backlinks.append((word, title))\n",
    "\n",
    "    # find 2 word matches\n",
    "    for word, next_word in zip(words, words[1:]):\n",
    "        query = f\"{word} {next_word}\"\n",
    "        query_vec = vectorize(word)\n",
    "        for title in all_titles:\n",
    "            title_vec = title_vectors[title]\n",
    "            if cosine_similarity(query_vec, title_vec) >= similarity_thresh:\n",
    "                backlinks.append((query, title))\n",
    "\n",
    "    return backlinks\n",
    "\n",
    "for i, title in enumerate(articles_map.keys()):\n",
    "    content = articles_map[title]\n",
    "    backlinks = parse_article(title, content)\n",
    "    article_backlinks[title] = backlinks\n",
    "    print(f\"{i / len(articles_map) * 100:.2f}%\", end=\"\\r\")\n",
    "print(\"Finished.\")"
   ]
  },
  {
   "cell_type": "code",
   "execution_count": null,
   "metadata": {},
   "outputs": [
    {
     "data": {
      "text/plain": [
       "[('Dublin', 'Dublin'),\n",
       " ('Ireland', 'Dublin'),\n",
       " ('Dublin', 'Dublin'),\n",
       " ('Dublin', 'Dublin'),\n",
       " ('Geography\\nDublin', 'Dublin'),\n",
       " ('Dublin', 'Dublin'),\n",
       " ('Culture\\nDublin', 'Dublin'),\n",
       " ('Ireland', 'Dublin'),\n",
       " ('Dublin', 'Dublin'),\n",
       " ('Dublin', 'Dublin'),\n",
       " ('Dublin', 'Dublin'),\n",
       " ('Dublin', 'Dublin'),\n",
       " ('Dublin', 'Dublin'),\n",
       " ('Dublin', 'Dublin'),\n",
       " ('Ireland', 'Dublin'),\n",
       " ('Dublin', 'Dublin'),\n",
       " ('Dublin is', 'Dublin'),\n",
       " ('Ireland located', 'Dublin'),\n",
       " ('Dublin is', 'Dublin'),\n",
       " ('Dublin has', 'Dublin'),\n",
       " ('Geography\\nDublin is', 'Dublin'),\n",
       " ('Dublin and', 'Dublin'),\n",
       " ('Culture\\nDublin is', 'Dublin'),\n",
       " ('Joyce Samuel', 'James Joyce'),\n",
       " ('Ireland and', 'Dublin'),\n",
       " ('Dublin was', 'Dublin'),\n",
       " ('Dublin The', 'Dublin'),\n",
       " ('Dublin University', 'Dublin'),\n",
       " ('Dublin and', 'Dublin'),\n",
       " ('Dublin City', 'Dublin'),\n",
       " ('Dublin Airport', 'Dublin'),\n",
       " ('Ireland Additionally', 'Dublin'),\n",
       " ('Dublin is', 'Dublin')]"
      ]
     },
     "execution_count": 23,
     "metadata": {},
     "output_type": "execute_result"
    }
   ],
   "source": [
    "class Node:\n",
    "\n",
    "    def __init__(self, title, edges):\n",
    "        self.title = title\n",
    "        self.edges = edges"
   ]
  }
 ],
 "metadata": {
  "kernelspec": {
   "display_name": "Python 3",
   "language": "python",
   "name": "python3"
  },
  "language_info": {
   "codemirror_mode": {
    "name": "ipython",
    "version": 3
   },
   "file_extension": ".py",
   "mimetype": "text/x-python",
   "name": "python",
   "nbconvert_exporter": "python",
   "pygments_lexer": "ipython3",
   "version": "3.9.13"
  }
 },
 "nbformat": 4,
 "nbformat_minor": 2
}
