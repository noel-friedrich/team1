{
 "cells": [
  {
   "cell_type": "code",
   "execution_count": 1,
   "metadata": {},
   "outputs": [],
   "source": [
    "# load all test_articles in\n",
    "import os\n",
    "\n",
    "test_article_dir = \"../test_articles\"\n",
    "\n",
    "articles_map: dict[str, str] = {}\n",
    "\n",
    "for article_path in os.listdir(test_article_dir):\n",
    "    full_article_path = os.path.join(test_article_dir, article_path)\n",
    "    with open(full_article_path, \"r\", encoding=\"utf-8\") as file:\n",
    "        articles_map[article_path[:-3]] = file.read()"
   ]
  },
  {
   "cell_type": "code",
   "execution_count": 4,
   "metadata": {},
   "outputs": [
    {
     "name": "stdout",
     "output_type": "stream",
     "text": [
      "Finished.\n"
     ]
    }
   ],
   "source": [
    "import numpy as np\n",
    "from sentence_transformers import SentenceTransformer\n",
    "\n",
    "model = SentenceTransformer(\"all-MiniLM-L6-v2\")\n",
    "\n",
    "title_vectors: dict[str, np.array] = {}\n",
    "for i, title in enumerate(articles_map.keys()):\n",
    "    embeddings = model.encode(title)\n",
    "    title_vectors[title] = np.array(embeddings)\n",
    "    print(f\"{i / len(articles_map) * 100:.2f}%\", end=\"\\r\")\n",
    "print(\"Finished.\")"
   ]
  },
  {
   "cell_type": "code",
   "execution_count": null,
   "metadata": {},
   "outputs": [],
   "source": [
    "def tokenize(sentence: str) -> list[str]:\n",
    "    return sentence.replace(\".\", \"\").replace(\"!\", \"\").replace(\"?\", \"\").replace(\",\", \"\").split(\" \")\n",
    "\n",
    "article_backlinks: dict[str, list[str]]\n",
    "all_titles = list(articles_map.keys())\n",
    "title_tokenizations = {t: tokenize(t) for t in all_titles}\n",
    "\n",
    "def parse_article(title: str, content: str):\n",
    "    words = tokenize(content)\n",
    "\n",
    "    # find 1 word matches\n",
    "    for word in words:\n",
    "        for title in all_titles:\n",
    "            \n",
    "\n",
    "    # find 2 word matches\n",
    "    for word, next_word in zip(words, words[1:]):\n",
    "        query = f\"{word} {next_word}\"\n",
    "\n",
    "\n",
    "title = list(articles_map.keys())[0]\n",
    "content = articles_map[title]\n",
    "\n",
    "parse_article(title, content)"
   ]
  }
 ],
 "metadata": {
  "kernelspec": {
   "display_name": "Python 3",
   "language": "python",
   "name": "python3"
  },
  "language_info": {
   "codemirror_mode": {
    "name": "ipython",
    "version": 3
   },
   "file_extension": ".py",
   "mimetype": "text/x-python",
   "name": "python",
   "nbconvert_exporter": "python",
   "pygments_lexer": "ipython3",
   "version": "3.9.13"
  }
 },
 "nbformat": 4,
 "nbformat_minor": 2
}
